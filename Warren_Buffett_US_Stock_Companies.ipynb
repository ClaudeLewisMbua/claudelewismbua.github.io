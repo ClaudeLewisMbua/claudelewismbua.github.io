{
  "nbformat": 4,
  "nbformat_minor": 0,
  "metadata": {
    "colab": {
      "name": "Warren Buffett US Stock Companies.ipynb",
      "provenance": [],
      "include_colab_link": true
    },
    "kernelspec": {
      "name": "python3",
      "display_name": "Python 3"
    },
    "language_info": {
      "name": "python"
    }
  },
  "cells": [
    {
      "cell_type": "markdown",
      "metadata": {
        "id": "view-in-github",
        "colab_type": "text"
      },
      "source": [
        "<a href=\"https://colab.research.google.com/github/ClaudeLewisMbua/claudelewismbua.github.io/blob/master/Warren_Buffett_US_Stock_Companies.ipynb\" target=\"_parent\"><img src=\"https://colab.research.google.com/assets/colab-badge.svg\" alt=\"Open In Colab\"/></a>"
      ]
    },
    {
      "cell_type": "markdown",
      "source": [
        "# **Project Goal**\n",
        "\n",
        "The main goal here is to analyze the *companies* that make up Warren Buffett's portfolio; Analyze their *behaviors* over the past few years, as well as their behaviors during the COVID-19 Pandemic; Determine *new trends* that can help investors make more informed decisions. This is inspired from the Kaggle exercise [here](https://www.kaggle.com/code/tomasmantero/eda-warren-buffett-us-stock-companies/notebook).\n",
        "\n",
        "\n",
        "\n"
      ],
      "metadata": {
        "id": "uOW3-LFv0_mb"
      }
    },
    {
      "cell_type": "code",
      "execution_count": null,
      "metadata": {
        "id": "hBoqhiCj0nho"
      },
      "outputs": [],
      "source": [
        ""
      ]
    }
  ]
}